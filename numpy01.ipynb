{
 "cells": [
  {
   "cell_type": "code",
   "execution_count": 49,
   "id": "original-asian",
   "metadata": {},
   "outputs": [],
   "source": [
    "#https://www.brilliantcode.net/1022/numpy-tutorial-basics-array-creations/?cli_action=1622963967.244\n",
    "import numpy as np"
   ]
  },
  {
   "cell_type": "code",
   "execution_count": null,
   "id": "minute-pathology",
   "metadata": {},
   "outputs": [],
   "source": [
    "#NumPy中的陣列和Python內建的陣列有什麼不同呢？\n",
    "'''\n",
    "NumPy的array是NumPy中名為ndarray的Class所定義的，\n",
    "而這個array當然支援多維度陣列，也可以說它是一個支援矩陣(Martix)的類別\n",
    "然而，Python的array則是標準函式庫內建的類別\n",
    "而Python的array能支援單維度(1維)的陣列，而且提供的功能選項也比NumPy來得少\n",
    "'''\n",
    "\n",
    "#ndarray 重要屬性\n",
    "'''\n",
    "ndarray.ndim：NumPy ndarray物件的維度\n",
    "ndarry.shape：ndarry物件的每一個維度的大小(size)，回傳資料類別為Tuple\n",
    "ndarry.size：ndarry物件所組成之array的總元素數量，回應之數值會等於ndarray.shape的每個元素相乘\n",
    "ndarry.dtype：ndarray物件內組成元素的型態\n",
    "ndarray.itemsize：陣列中每一個元素的大小(Bytes) (ex: int64, itemsize = 64/8 = 8 Bytes)\n",
    "ndarry.data：這是一個存有實際陣列元素的緩衝，通常我們不需要使用這個屬性，因為我們可以使用index存取這些元素。\n",
    "'''"
   ]
  },
  {
   "cell_type": "code",
   "execution_count": 14,
   "id": "earlier-brunei",
   "metadata": {},
   "outputs": [
    {
     "name": "stdout",
     "output_type": "stream",
     "text": [
      "[1 2 3 4 5] 1 (5,) 5 int64 8 <memory at 0x7f8793a53ac0>\n"
     ]
    }
   ],
   "source": [
    "a = np.array([1, 2, 3, 4, 5])\n",
    "print(a, a.ndim, a.shape, a.size, a.dtype, a.itemsize, a.data)"
   ]
  },
  {
   "cell_type": "code",
   "execution_count": 13,
   "id": "bored-donor",
   "metadata": {},
   "outputs": [
    {
     "name": "stdout",
     "output_type": "stream",
     "text": [
      "[1.25 2.25 3.25 4.25 5.25] 1 (5,) 5 float64 8 <memory at 0x7f8793a53400>\n"
     ]
    }
   ],
   "source": [
    "a = np.array([1.25, 2.25, 3.25, 4.25, 5.25])\n",
    "print(a, a.ndim, a.shape, a.size, a.dtype, a.itemsize, a.data)"
   ]
  },
  {
   "cell_type": "code",
   "execution_count": 15,
   "id": "modular-judge",
   "metadata": {},
   "outputs": [
    {
     "name": "stdout",
     "output_type": "stream",
     "text": [
      "ndim:2\n",
      "shape:(2, 3)\n",
      "size:6\n",
      "dtype:int16\n",
      "itemsize:2\n",
      "data:<memory at 0x7f8793a116c0>\n"
     ]
    }
   ],
   "source": [
    "aa = np.array([(1.9, 1.5, 1.3), (2.9, 2.5, 2.3)], dtype=np.int16)\n",
    "# ndarray.ndim\n",
    "print(\"ndim:{0}\".format(aa.ndim))\n",
    "# ndarry.shape\n",
    "print(\"shape:{0}\".format(aa.shape))\n",
    "# ndarry.size\n",
    "print(\"size:{0}\".format(aa.size))\n",
    "# ndarry.dtype\n",
    "print(\"dtype:{0}\".format(aa.dtype))\n",
    "# ndarray.itemsize\n",
    "print(\"itemsize:{0}\".format(aa.itemsize))\n",
    "# ndarry.data\n",
    "print(\"data:{0}\".format(aa.data))"
   ]
  },
  {
   "cell_type": "code",
   "execution_count": 26,
   "id": "statewide-dynamics",
   "metadata": {},
   "outputs": [
    {
     "name": "stdout",
     "output_type": "stream",
     "text": [
      "a=[6 5 4 3 2]\n",
      "b=[0 1 2 3 4 5 6 7 8 9]\n"
     ]
    },
    {
     "data": {
      "text/plain": [
       "array([0. , 1.5, 3. , 4.5, 6. , 7.5, 9. ])"
      ]
     },
     "execution_count": 26,
     "metadata": {},
     "output_type": "execute_result"
    }
   ],
   "source": [
    "## 1維陣列\n",
    "'''\n",
    "1維陣列\n",
    "np.array( [<陣列元素用逗號隔開>] )：簡易一維陣列\n",
    "np.arange( 起始值, 結束值, 步幅, 資料型別 )：也是產生一維陣列，\n",
    "和np.array()的差別在於arange擁有較大的彈性，而且元素數值是自動化產生！\n",
    "'''\n",
    "a = np.array([6, 5, 4, 3, 2])\n",
    "print(\"a={0}\".format(a))\n",
    "b = np.arange(10)\n",
    "print(\"b={0}\".format(b))\n",
    "c = np.arange(0, 10, 1.5, dtype=np.float64)\n",
    "c"
   ]
  },
  {
   "cell_type": "code",
   "execution_count": 23,
   "id": "collected-direction",
   "metadata": {},
   "outputs": [
    {
     "data": {
      "text/plain": [
       "array([[1.1, 1.2, 1.3],\n",
       "       [2.1, 2.2, 2.3]])"
      ]
     },
     "execution_count": 23,
     "metadata": {},
     "output_type": "execute_result"
    }
   ],
   "source": [
    "##2維陣列\n",
    "'''\n",
    "np.array( [[<Row1陣列元素>], [<Row2陣列元素>]] )：產生簡易二維陣列\n",
    "'''\n",
    "## 2維陣列 2-by-3 array\n",
    "b = np.array([[1.1, 1.2, 1.3], [2.1, 2.2, 2.3]])\n",
    "b"
   ]
  },
  {
   "cell_type": "code",
   "execution_count": 27,
   "id": "working-communications",
   "metadata": {},
   "outputs": [
    {
     "data": {
      "text/plain": [
       "array([[1, 1, 1],\n",
       "       [2, 2, 2]], dtype=int16)"
      ]
     },
     "execution_count": 27,
     "metadata": {},
     "output_type": "execute_result"
    }
   ],
   "source": [
    "## Assign a particular data type to an array\n",
    "aa = np.array([[1.9, 1.5, 1.3], [2.9, 2.5, 2.3]], dtype=np.int16)\n",
    "aa"
   ]
  },
  {
   "cell_type": "code",
   "execution_count": null,
   "id": "embedded-priest",
   "metadata": {},
   "outputs": [],
   "source": [
    "# zeros, ones, empty, arange, linspace"
   ]
  },
  {
   "cell_type": "code",
   "execution_count": 34,
   "id": "horizontal-devices",
   "metadata": {},
   "outputs": [
    {
     "data": {
      "text/plain": [
       "array([[0., 0., 0., 0., 0.],\n",
       "       [0., 0., 0., 0., 0.],\n",
       "       [0., 0., 0., 0., 0.]])"
      ]
     },
     "execution_count": 34,
     "metadata": {},
     "output_type": "execute_result"
    }
   ],
   "source": [
    "#np.zeros( (陣列各維度大小用逗號區分) )：建立全為0的陣列，可以小括號定義陣列的各個維度的大小！\n",
    "zeros = np.zeros( (3, 5) )\n",
    "zeros"
   ]
  },
  {
   "cell_type": "code",
   "execution_count": 35,
   "id": "blocked-decade",
   "metadata": {},
   "outputs": [
    {
     "data": {
      "text/plain": [
       "array([[1., 1., 1., 1., 1.],\n",
       "       [1., 1., 1., 1., 1.],\n",
       "       [1., 1., 1., 1., 1.]])"
      ]
     },
     "execution_count": 35,
     "metadata": {},
     "output_type": "execute_result"
    }
   ],
   "source": [
    "#np.ones( (陣列各維度大小用逗號區分) )：用法與np.zeros一樣！\n",
    "ones = np.ones( (3, 5) )\n",
    "ones"
   ]
  },
  {
   "cell_type": "code",
   "execution_count": 36,
   "id": "bored-divide",
   "metadata": {},
   "outputs": [
    {
     "data": {
      "text/plain": [
       "array([[0.0e+000, 4.9e-324, 9.9e-324, 1.5e-323, 2.0e-323],\n",
       "       [2.5e-323, 3.0e-323, 3.5e-323, 4.0e-323, 4.4e-323]])"
      ]
     },
     "execution_count": 36,
     "metadata": {},
     "output_type": "execute_result"
    }
   ],
   "source": [
    "#np.empty( (陣列各維度大小用逗號區分) )：用法與np.zeros一樣，但唯一的差別是NumPy不會初始化陣列內元素的初始值，\n",
    "#所以內容將會是不確定的\n",
    "e = np.empty( (2, 5) )\n",
    "e"
   ]
  },
  {
   "cell_type": "code",
   "execution_count": 46,
   "id": "thousand-enzyme",
   "metadata": {},
   "outputs": [
    {
     "data": {
      "text/plain": [
       "array([15, 20, 25])"
      ]
     },
     "execution_count": 46,
     "metadata": {},
     "output_type": "execute_result"
    }
   ],
   "source": [
    "#np.arange( 起始值, 結束值, 步幅, 資料型別 )：也是產生一維陣列，和np.array()的差別在於arange擁有較大的彈性，\n",
    "#而且元素數值是自動化產生！步幅決定每隔多少數值產生一個元素(等差的概念)。\n",
    "r1 = np.arange(15, 30, 5)\n",
    "r1"
   ]
  },
  {
   "cell_type": "code",
   "execution_count": 48,
   "id": "simplified-uncertainty",
   "metadata": {},
   "outputs": [
    {
     "data": {
      "text/plain": [
       "array([15. , 22.5, 30. ])"
      ]
     },
     "execution_count": 48,
     "metadata": {},
     "output_type": "execute_result"
    }
   ],
   "source": [
    "#np.linspace( 起始值, 結束值, 起始與結束的區間內要產生幾個元素 )：這個在畫線時還蠻常用到的！只要給定陣列的區間(起始值、結束值)，就可以要求在這個區間內產生幾個元素！\n",
    "lin = np.linspace(15, 30, 3)\n",
    "lin"
   ]
  },
  {
   "cell_type": "code",
   "execution_count": null,
   "id": "fatal-ethiopia",
   "metadata": {},
   "outputs": [],
   "source": []
  }
 ],
 "metadata": {
  "kernelspec": {
   "display_name": "Python 3",
   "language": "python",
   "name": "python3"
  },
  "language_info": {
   "codemirror_mode": {
    "name": "ipython",
    "version": 3
   },
   "file_extension": ".py",
   "mimetype": "text/x-python",
   "name": "python",
   "nbconvert_exporter": "python",
   "pygments_lexer": "ipython3",
   "version": "3.8.8"
  }
 },
 "nbformat": 4,
 "nbformat_minor": 5
}
