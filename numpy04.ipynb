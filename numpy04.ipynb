{
 "cells": [
  {
   "cell_type": "code",
   "execution_count": 1,
   "id": "secondary-working",
   "metadata": {},
   "outputs": [],
   "source": [
    "#https://www.brilliantcode.net/1093/numpy-1-14-tutorial-04-indexing-slicing-iterating-from-function/\n",
    "import numpy as np"
   ]
  },
  {
   "cell_type": "code",
   "execution_count": 5,
   "id": "attended-conflict",
   "metadata": {},
   "outputs": [
    {
     "name": "stdout",
     "output_type": "stream",
     "text": [
      "a=> [ 0  1  4  9 16 25 36 49 64 81]\n",
      "\n",
      "a[2:5]=> [ 4  9 16]\n"
     ]
    }
   ],
   "source": [
    "'''\n",
    "索引(Indexing)的用途不外乎就是為了要從陣列和矩陣中取值，但除此之外有很多種功能！\n",
    "可以取出連續區間，還可以間隔取值！\n",
    "\n",
    "選取連續區間 [a:b], 不含b\n",
    "'''\n",
    "\n",
    "a = np.arange(10) ** 2\n",
    "print(\"a=> {0}\".format(a))\n",
    "print()\n",
    "print(\"a[2:5]=> {0}\".format(a[2:5]))"
   ]
  },
  {
   "cell_type": "code",
   "execution_count": 9,
   "id": "naked-isolation",
   "metadata": {},
   "outputs": [
    {
     "name": "stdout",
     "output_type": "stream",
     "text": [
      "a[3:8:4]=> [ 0  1  4 -1 16 25 36 -1 64 81]\n"
     ]
    }
   ],
   "source": [
    "'''\n",
    "以1維陣列來說明x[a:b:c]\n",
    "a：選取資料的起始索引\n",
    "b：選取資料的結束索引+1\n",
    "c：選取資料間隔，以索引值可以被此值整除的元素，不指定表示1\n",
    "'''\n",
    "a = np.arange(10) ** 2\n",
    "a[3:8:4] = -1\n",
    "print(\"a[3:8:4]=> {0}\".format(a))"
   ]
  },
  {
   "cell_type": "code",
   "execution_count": 13,
   "id": "unlimited-oasis",
   "metadata": {},
   "outputs": [
    {
     "name": "stdout",
     "output_type": "stream",
     "text": [
      "a[:,:,-1])=> [81 64 49 36 25 16  9  4  1  0]\n",
      "a[:,:,-2])=> [81 49 25  9  1]\n"
     ]
    }
   ],
   "source": [
    "'''\n",
    "倒序[::-1]\n",
    "'''\n",
    "a = np.arange(10) ** 2\n",
    "print(\"a[:,:,-1])=> {0}\".format(a[::-1]))\n",
    "print(\"a[:,:,-2])=> {0}\".format(a[::-2]))"
   ]
  },
  {
   "cell_type": "code",
   "execution_count": 14,
   "id": "yellow-myanmar",
   "metadata": {},
   "outputs": [
    {
     "name": "stdout",
     "output_type": "stream",
     "text": [
      "a**(1/2)=> 0.0\n",
      "a**(1/2)=> 1.0\n",
      "a**(1/2)=> 2.0\n",
      "a**(1/2)=> 3.0\n",
      "a**(1/2)=> 4.0\n",
      "a**(1/2)=> 5.0\n",
      "a**(1/2)=> 6.0\n",
      "a**(1/2)=> 7.0\n",
      "a**(1/2)=> 8.0\n",
      "a**(1/2)=> 9.0\n"
     ]
    }
   ],
   "source": [
    "# Iteracted over\n",
    "a = np.arange(10) ** 2\n",
    "for i in a:\n",
    "    print(\"a**(1/2)=> {0}\".format(np.round(i**(1/2), 0)))"
   ]
  },
  {
   "cell_type": "code",
   "execution_count": 16,
   "id": "automated-stockholm",
   "metadata": {},
   "outputs": [
    {
     "name": "stdout",
     "output_type": "stream",
     "text": [
      "1\n",
      "2\n",
      "3\n",
      "4\n",
      "5\n",
      "6\n",
      "7\n",
      "8\n",
      "9\n",
      "10\n",
      "11\n",
      "12\n"
     ]
    }
   ],
   "source": [
    "#直接將矩陣內所有元素扁平化，依序取出所有元素！此功能必須搭配for-loop, while-loop使用！\n",
    "#扁平化(.flat)會變成一維陣列！\n",
    "b = np.arange(1, 13).reshape(3, 4)\n",
    "for element in b.flat:\n",
    "    print(element)"
   ]
  },
  {
   "cell_type": "code",
   "execution_count": 18,
   "id": "suffering-discussion",
   "metadata": {},
   "outputs": [
    {
     "name": "stdout",
     "output_type": "stream",
     "text": [
      "[[ 0  1  2  3  4]\n",
      " [ 5  6  7  8  9]\n",
      " [10 11 12 13 14]\n",
      " [15 16 17 18 19]\n",
      " [20 21 22 23 24]]\n",
      "\n",
      "[ 4  9 14 19 24]\n",
      "\n",
      "[ 4  9 14 19 24]\n"
     ]
    }
   ],
   "source": [
    "#np.fromfunction(函數名稱, 形狀, 資料型別)\n",
    "def my_f(row, col):\n",
    "    return row*5 + col\n",
    " \n",
    "b = np.fromfunction(my_f, (5, 5), dtype=int)\n",
    "print(b)\n",
    " \n",
    "print()\n",
    "print(b[0:5, 4])\n",
    " \n",
    "print()\n",
    "print(b[:, 4])"
   ]
  },
  {
   "cell_type": "code",
   "execution_count": null,
   "id": "decimal-praise",
   "metadata": {},
   "outputs": [],
   "source": []
  }
 ],
 "metadata": {
  "kernelspec": {
   "display_name": "Python 3",
   "language": "python",
   "name": "python3"
  },
  "language_info": {
   "codemirror_mode": {
    "name": "ipython",
    "version": 3
   },
   "file_extension": ".py",
   "mimetype": "text/x-python",
   "name": "python",
   "nbconvert_exporter": "python",
   "pygments_lexer": "ipython3",
   "version": "3.8.8"
  }
 },
 "nbformat": 4,
 "nbformat_minor": 5
}
