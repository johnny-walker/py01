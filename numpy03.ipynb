{
 "cells": [
  {
   "cell_type": "code",
   "execution_count": 1,
   "id": "stock-serbia",
   "metadata": {},
   "outputs": [],
   "source": [
    "#https://www.brilliantcode.net/1062/numpy-tutorial-basic-operations/\n",
    "import numpy as np"
   ]
  },
  {
   "cell_type": "code",
   "execution_count": 2,
   "id": "searching-chase",
   "metadata": {},
   "outputs": [
    {
     "name": "stdout",
     "output_type": "stream",
     "text": [
      "維度相同的矩陣相加、減:\n",
      "a=>[6 7 8 9]\n",
      "b=>[0 1 2 3]\n",
      "c=>[6 6 6 6]\n",
      "\n",
      "同加、同減一個數值:\n",
      "a=>[11 12 13 14]\n",
      "b=>[-5 -4 -3 -2]\n",
      "\n",
      "次方：\n",
      "d=>[25 16  9  4]\n"
     ]
    }
   ],
   "source": [
    "print('維度相同的矩陣相加、減:')\n",
    "# 維度相同的矩陣相加、減\n",
    "a = np.array( [6, 7, 8, 9] )\n",
    "b = np.arange( 4 )\n",
    "c = a - b\n",
    "print(\"a=>{0}\".format(a))\n",
    "print(\"b=>{0}\".format(b))\n",
    "print(\"c=>{0}\".format(c))\n",
    " \n",
    " \n",
    "print('\\n同加、同減一個數值:')\n",
    "# 同加、同減一個數值\n",
    "a += 5\n",
    "print(\"a=>{0}\".format(a))\n",
    "b -= 5\n",
    "print(\"b=>{0}\".format(b))\n",
    " \n",
    " \n",
    "print('\\n次方：')\n",
    "# d是b的2次方\n",
    "# d is squared of b.\n",
    "d = b**2\n",
    "print(\"d=>{0}\".format(d))"
   ]
  },
  {
   "cell_type": "code",
   "execution_count": 4,
   "id": "electric-drain",
   "metadata": {},
   "outputs": [
    {
     "name": "stdout",
     "output_type": "stream",
     "text": [
      "a=>[0 1 2 3 4]\n",
      "b=>[10  9  8  7  6]\n",
      "\n",
      "同除2:\n",
      "c=>[0.  0.5 1.  1.5 2. ]\n",
      "\n",
      "同乘2:\n",
      "d=>[20 18 16 14 12]\n"
     ]
    }
   ],
   "source": [
    "a = np.arange(5)\n",
    "b = np.arange(10, 5, -1)\n",
    "print(\"a=>{0}\".format(a))\n",
    "print(\"b=>{0}\".format(b))\n",
    "print(\"\\n同除2:\")\n",
    "# c等於a同除以2\n",
    "c = a / 2\n",
    "print(\"c=>{0}\".format(c))\n",
    " \n",
    "print(\"\\n同乘2:\")\n",
    "# d等於b同乘以2\n",
    "d = b * 2\n",
    "print(\"d=>{0}\".format(d))"
   ]
  },
  {
   "cell_type": "code",
   "execution_count": 5,
   "id": "tight-target",
   "metadata": {},
   "outputs": [
    {
     "name": "stdout",
     "output_type": "stream",
     "text": [
      "A, B相乘(矩陣乘法) =>\n",
      "[[19 22]\n",
      " [43 50]]\n",
      "\n",
      "A, B相對應位置相乘=>\n",
      "[[ 5 12]\n",
      " [21 32]]\n"
     ]
    }
   ],
   "source": [
    "# 矩陣相乘\n",
    "A = np.array([[1, 2], [3, 4]])\n",
    "B = np.array([[5, 6], [7, 8]])\n",
    "print(\"A, B相乘(矩陣乘法) =>\\n{0}\".format(A.dot(B)))\n",
    "print()\n",
    "print(\"A, B相對應位置相乘=>\\n{0}\".format(A*B))"
   ]
  },
  {
   "cell_type": "code",
   "execution_count": 9,
   "id": "plain-packet",
   "metadata": {},
   "outputs": [
    {
     "name": "stdout",
     "output_type": "stream",
     "text": [
      "陣列e裡面哪幾個位置的元素值小於等於零?:[False  True False False  True]\n",
      "把小於等於0的元素取代成99=>[ 5 99  3  9 99]\n"
     ]
    }
   ],
   "source": [
    "# 印出陣列中小於等於0的元素\n",
    "e = np.array([5, -1, 3, 9, 0])\n",
    "print(\"陣列e裡面哪幾個位置的元素值小於等於零?:{0}\".format(e<=0))\n",
    " \n",
    "# 把小於等於0的元素取代成99\n",
    "e[e<=0] = 99\n",
    "print(\"把小於等於0的元素取代成99=>{0}\".format(e))"
   ]
  },
  {
   "cell_type": "code",
   "execution_count": 14,
   "id": "minute-guest",
   "metadata": {},
   "outputs": [
    {
     "name": "stdout",
     "output_type": "stream",
     "text": [
      "a=>\n",
      "[[5 5 5]\n",
      " [5 5 5]]\n",
      "b=>\n",
      "[[5.34952516 5.06274111 5.28364041]\n",
      " [5.33894883 5.07091964 5.7444525 ]]\n"
     ]
    },
    {
     "ename": "UFuncTypeError",
     "evalue": "Cannot cast ufunc 'add' output from dtype('float64') to dtype('int64') with casting rule 'same_kind'",
     "output_type": "error",
     "traceback": [
      "\u001b[0;31m---------------------------------------------------------------------------\u001b[0m",
      "\u001b[0;31mUFuncTypeError\u001b[0m                            Traceback (most recent call last)",
      "\u001b[0;32m<ipython-input-14-0769c5f59d78>\u001b[0m in \u001b[0;36m<module>\u001b[0;34m\u001b[0m\n\u001b[1;32m      8\u001b[0m \u001b[0mprint\u001b[0m\u001b[0;34m(\u001b[0m\u001b[0;34m\"b=>\\n{0}\"\u001b[0m\u001b[0;34m.\u001b[0m\u001b[0mformat\u001b[0m\u001b[0;34m(\u001b[0m\u001b[0mb\u001b[0m\u001b[0;34m)\u001b[0m\u001b[0;34m)\u001b[0m\u001b[0;34m\u001b[0m\u001b[0;34m\u001b[0m\u001b[0m\n\u001b[1;32m      9\u001b[0m \u001b[0;34m\u001b[0m\u001b[0m\n\u001b[0;32m---> 10\u001b[0;31m \u001b[0ma\u001b[0m \u001b[0;34m+=\u001b[0m \u001b[0mb\u001b[0m\u001b[0;34m\u001b[0m\u001b[0;34m\u001b[0m\u001b[0m\n\u001b[0m\u001b[1;32m     11\u001b[0m \u001b[0mprint\u001b[0m\u001b[0;34m(\u001b[0m\u001b[0;34m\"a=>\\n{0}\"\u001b[0m\u001b[0;34m.\u001b[0m\u001b[0mformat\u001b[0m\u001b[0;34m(\u001b[0m\u001b[0ma\u001b[0m\u001b[0;34m)\u001b[0m\u001b[0;34m)\u001b[0m\u001b[0;34m\u001b[0m\u001b[0;34m\u001b[0m\u001b[0m\n",
      "\u001b[0;31mUFuncTypeError\u001b[0m: Cannot cast ufunc 'add' output from dtype('float64') to dtype('int64') with casting rule 'same_kind'"
     ]
    }
   ],
   "source": [
    "#常犯錯誤, 兩個要做運算的陣列型別根本不符\n",
    "## Operations: += *=\n",
    "a = np.ones((2, 3), dtype='int') #change to 'float' to correct the exception\n",
    "b = np.random.random( (2,3) ) #float\n",
    "a *= 5\n",
    "print(\"a=>\\n{0}\".format(a))\n",
    "b += a\n",
    "print(\"b=>\\n{0}\".format(b))\n",
    " \n",
    "a += b\n",
    "print(\"a=>\\n{0}\".format(a))"
   ]
  },
  {
   "cell_type": "code",
   "execution_count": 16,
   "id": "racial-malawi",
   "metadata": {},
   "outputs": [
    {
     "name": "stdout",
     "output_type": "stream",
     "text": [
      "sum => 3.337870662145246\n",
      "max => 0.787721924573739\n",
      "min => 0.10501661922893468\n",
      "mean => 0.3708745180161384\n"
     ]
    }
   ],
   "source": [
    "## Methods: sum, min, max, mean\n",
    "a = np.random.random((3, 3))\n",
    "print(\"sum => {0}\\nmax => {1}\\nmin => {2}\\nmean => {3}\".format(a.sum(), a.max(), a.min(), a.mean()))"
   ]
  },
  {
   "cell_type": "code",
   "execution_count": 21,
   "id": "important-culture",
   "metadata": {},
   "outputs": [
    {
     "name": "stdout",
     "output_type": "stream",
     "text": [
      "b=>\n",
      "[[ 0  1  2  3  4  5]\n",
      " [ 6  7  8  9 10 11]]\n",
      "\n",
      "b.sum(axis=0)=>[ 6  8 10 12 14 16]\n",
      "\n",
      "b.sum(axis=1)=>[15 51]\n",
      "\n",
      "revenu=>\n",
      "[[ 76.  34.  40.  46.  62.  46.  72.  12.  57. 100.  23.   5.]]\n",
      "\n",
      "Cumulative Sum of revenu=>\n",
      "[ 76. 110. 150. 196. 258. 304. 376. 388. 445. 545. 568. 573.]\n"
     ]
    }
   ],
   "source": [
    "b = np.arange(12).reshape(2, 6)\n",
    "print(\"b=>\\n{0}\".format(b))\n",
    " \n",
    "print()\n",
    "# 加總每一欄(column)\n",
    "print(\"b.sum(axis=0)=>{0}\".format(b.sum(axis=0)))\n",
    " \n",
    "print()\n",
    "# 加總每一列(row)\n",
    "print(\"b.sum(axis=1)=>{0}\".format(b.sum(axis=1)))\n",
    " \n",
    "print()\n",
    "revenu = np.round(np.random.random((1,12)) * 100, 0)\n",
    "print(\"revenu=>\\n{0}\".format(revenu))\n",
    " \n",
    "print()\n",
    "# 累計加總(每一項數值等於自己加上前一項)\n",
    "print(\"Cumulative Sum of revenu=>\\n{0}\".format(revenu.cumsum()))"
   ]
  },
  {
   "cell_type": "code",
   "execution_count": 22,
   "id": "stock-capacity",
   "metadata": {},
   "outputs": [
    {
     "name": "stdout",
     "output_type": "stream",
     "text": [
      "B_exp=> [1.         2.71828183 7.3890561 ]\n",
      "B_sqrt=> [0.         1.         1.41421356]\n",
      "np.add(B, C)=> [2 2 2]\n"
     ]
    }
   ],
   "source": [
    "B = np.arange(3)\n",
    "B_exp = np.exp(B)\n",
    "print(\"B_exp=> {0}\".format(B_exp))\n",
    " \n",
    "B_sqrt = np.sqrt(B)\n",
    "print(\"B_sqrt=> {0}\".format(B_sqrt))\n",
    " \n",
    "C = np.array([2, 1, 0])\n",
    "print(\"np.add(B, C)=> {0}\".format(np.add(B, C)))"
   ]
  },
  {
   "cell_type": "code",
   "execution_count": null,
   "id": "killing-session",
   "metadata": {},
   "outputs": [],
   "source": []
  }
 ],
 "metadata": {
  "kernelspec": {
   "display_name": "Python 3",
   "language": "python",
   "name": "python3"
  },
  "language_info": {
   "codemirror_mode": {
    "name": "ipython",
    "version": 3
   },
   "file_extension": ".py",
   "mimetype": "text/x-python",
   "name": "python",
   "nbconvert_exporter": "python",
   "pygments_lexer": "ipython3",
   "version": "3.8.8"
  }
 },
 "nbformat": 4,
 "nbformat_minor": 5
}
